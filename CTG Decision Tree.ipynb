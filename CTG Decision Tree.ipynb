{
 "cells": [
  {
   "cell_type": "code",
   "execution_count": 1,
   "metadata": {},
   "outputs": [],
   "source": [
    "import pandas as pd\n",
    "import sklearn \n",
    "import matplotlib.pyplot as plt\n",
    "import numpy as np\n",
    "import seaborn as sns"
   ]
  },
  {
   "cell_type": "code",
   "execution_count": 2,
   "metadata": {},
   "outputs": [
    {
     "data": {
      "text/html": [
       "<div>\n",
       "<style scoped>\n",
       "    .dataframe tbody tr th:only-of-type {\n",
       "        vertical-align: middle;\n",
       "    }\n",
       "\n",
       "    .dataframe tbody tr th {\n",
       "        vertical-align: top;\n",
       "    }\n",
       "\n",
       "    .dataframe thead th {\n",
       "        text-align: right;\n",
       "    }\n",
       "</style>\n",
       "<table border=\"1\" class=\"dataframe\">\n",
       "  <thead>\n",
       "    <tr style=\"text-align: right;\">\n",
       "      <th></th>\n",
       "      <th>Loan_ID</th>\n",
       "      <th>Gender</th>\n",
       "      <th>Married</th>\n",
       "      <th>Dependents</th>\n",
       "      <th>Education</th>\n",
       "      <th>Self_Employed</th>\n",
       "      <th>ApplicantIncome</th>\n",
       "      <th>CoapplicantIncome</th>\n",
       "      <th>LoanAmount</th>\n",
       "      <th>Loan_Amount_Term</th>\n",
       "      <th>Credit_History</th>\n",
       "      <th>Property_Area</th>\n",
       "      <th>Loan_Status</th>\n",
       "    </tr>\n",
       "  </thead>\n",
       "  <tbody>\n",
       "    <tr>\n",
       "      <th>0</th>\n",
       "      <td>LP001002</td>\n",
       "      <td>Male</td>\n",
       "      <td>No</td>\n",
       "      <td>0.0</td>\n",
       "      <td>Graduate</td>\n",
       "      <td>No</td>\n",
       "      <td>5849</td>\n",
       "      <td>0.0</td>\n",
       "      <td>NaN</td>\n",
       "      <td>360.0</td>\n",
       "      <td>1.0</td>\n",
       "      <td>Urban</td>\n",
       "      <td>Y</td>\n",
       "    </tr>\n",
       "    <tr>\n",
       "      <th>1</th>\n",
       "      <td>LP001003</td>\n",
       "      <td>Male</td>\n",
       "      <td>Yes</td>\n",
       "      <td>1.0</td>\n",
       "      <td>Graduate</td>\n",
       "      <td>No</td>\n",
       "      <td>4583</td>\n",
       "      <td>1508.0</td>\n",
       "      <td>128.0</td>\n",
       "      <td>360.0</td>\n",
       "      <td>1.0</td>\n",
       "      <td>Rural</td>\n",
       "      <td>N</td>\n",
       "    </tr>\n",
       "    <tr>\n",
       "      <th>2</th>\n",
       "      <td>LP001005</td>\n",
       "      <td>Male</td>\n",
       "      <td>Yes</td>\n",
       "      <td>0.0</td>\n",
       "      <td>Graduate</td>\n",
       "      <td>Yes</td>\n",
       "      <td>3000</td>\n",
       "      <td>0.0</td>\n",
       "      <td>66.0</td>\n",
       "      <td>360.0</td>\n",
       "      <td>1.0</td>\n",
       "      <td>Urban</td>\n",
       "      <td>Y</td>\n",
       "    </tr>\n",
       "    <tr>\n",
       "      <th>3</th>\n",
       "      <td>LP001006</td>\n",
       "      <td>Male</td>\n",
       "      <td>Yes</td>\n",
       "      <td>0.0</td>\n",
       "      <td>Not Graduate</td>\n",
       "      <td>No</td>\n",
       "      <td>2583</td>\n",
       "      <td>2358.0</td>\n",
       "      <td>120.0</td>\n",
       "      <td>360.0</td>\n",
       "      <td>1.0</td>\n",
       "      <td>Urban</td>\n",
       "      <td>Y</td>\n",
       "    </tr>\n",
       "    <tr>\n",
       "      <th>4</th>\n",
       "      <td>LP001008</td>\n",
       "      <td>Male</td>\n",
       "      <td>No</td>\n",
       "      <td>0.0</td>\n",
       "      <td>Graduate</td>\n",
       "      <td>No</td>\n",
       "      <td>6000</td>\n",
       "      <td>0.0</td>\n",
       "      <td>141.0</td>\n",
       "      <td>360.0</td>\n",
       "      <td>1.0</td>\n",
       "      <td>Urban</td>\n",
       "      <td>Y</td>\n",
       "    </tr>\n",
       "  </tbody>\n",
       "</table>\n",
       "</div>"
      ],
      "text/plain": [
       "    Loan_ID Gender Married  Dependents     Education Self_Employed  \\\n",
       "0  LP001002   Male      No         0.0      Graduate            No   \n",
       "1  LP001003   Male     Yes         1.0      Graduate            No   \n",
       "2  LP001005   Male     Yes         0.0      Graduate           Yes   \n",
       "3  LP001006   Male     Yes         0.0  Not Graduate            No   \n",
       "4  LP001008   Male      No         0.0      Graduate            No   \n",
       "\n",
       "   ApplicantIncome  CoapplicantIncome  LoanAmount  Loan_Amount_Term  \\\n",
       "0             5849                0.0         NaN             360.0   \n",
       "1             4583             1508.0       128.0             360.0   \n",
       "2             3000                0.0        66.0             360.0   \n",
       "3             2583             2358.0       120.0             360.0   \n",
       "4             6000                0.0       141.0             360.0   \n",
       "\n",
       "   Credit_History Property_Area Loan_Status  \n",
       "0             1.0         Urban           Y  \n",
       "1             1.0         Rural           N  \n",
       "2             1.0         Urban           Y  \n",
       "3             1.0         Urban           Y  \n",
       "4             1.0         Urban           Y  "
      ]
     },
     "execution_count": 2,
     "metadata": {},
     "output_type": "execute_result"
    }
   ],
   "source": [
    "cr=pd.read_csv(r\"C:\\Users\\yogesh\\Downloads\\Datasets\\CreditRisk.csv\")\n",
    "cr.head()\n"
   ]
  },
  {
   "cell_type": "code",
   "execution_count": 3,
   "metadata": {},
   "outputs": [
    {
     "data": {
      "text/plain": [
       "(981, 13)"
      ]
     },
     "execution_count": 3,
     "metadata": {},
     "output_type": "execute_result"
    }
   ],
   "source": [
    "cr.shape"
   ]
  },
  {
   "cell_type": "code",
   "execution_count": 4,
   "metadata": {},
   "outputs": [],
   "source": [
    "#problem statement\n",
    "\n",
    "#1 build a  predictive model which i can use to predict loan for the new person who applies for the loan\n",
    "\n",
    "#2 use this data for running the marketing campaigne/sales strategy to target the good customers"
   ]
  },
  {
   "cell_type": "code",
   "execution_count": 5,
   "metadata": {},
   "outputs": [
    {
     "data": {
      "text/plain": [
       "Loan_ID               0\n",
       "Gender               24\n",
       "Married               3\n",
       "Dependents           25\n",
       "Education             0\n",
       "Self_Employed        55\n",
       "ApplicantIncome       0\n",
       "CoapplicantIncome     0\n",
       "LoanAmount           27\n",
       "Loan_Amount_Term     20\n",
       "Credit_History       79\n",
       "Property_Area         0\n",
       "Loan_Status           0\n",
       "dtype: int64"
      ]
     },
     "execution_count": 5,
     "metadata": {},
     "output_type": "execute_result"
    }
   ],
   "source": [
    "cr.isnull().sum()"
   ]
  },
  {
   "cell_type": "code",
   "execution_count": 6,
   "metadata": {},
   "outputs": [],
   "source": [
    "cr.Gender=cr.Gender.fillna('Male')\n",
    "cr.Married=cr.Married.fillna('No')\n",
    "cr.Dependents=cr.Dependents.fillna(0)\n",
    "cr.Self_Employed=cr.Self_Employed.fillna('Yes')\n",
    "cr.LoanAmount=cr.LoanAmount.fillna(cr.LoanAmount.mean())\n",
    "cr.Loan_Amount_Term=cr.Loan_Amount_Term.fillna(cr.Loan_Amount_Term.mean())\n",
    "cr.Credit_History=cr.Credit_History.fillna(cr.Credit_History.fillna(0))"
   ]
  },
  {
   "cell_type": "code",
   "execution_count": 7,
   "metadata": {},
   "outputs": [
    {
     "data": {
      "text/plain": [
       "Loan_ID              0\n",
       "Gender               0\n",
       "Married              0\n",
       "Dependents           0\n",
       "Education            0\n",
       "Self_Employed        0\n",
       "ApplicantIncome      0\n",
       "CoapplicantIncome    0\n",
       "LoanAmount           0\n",
       "Loan_Amount_Term     0\n",
       "Credit_History       0\n",
       "Property_Area        0\n",
       "Loan_Status          0\n",
       "dtype: int64"
      ]
     },
     "execution_count": 7,
     "metadata": {},
     "output_type": "execute_result"
    }
   ],
   "source": [
    "cr.isnull().sum()"
   ]
  },
  {
   "cell_type": "code",
   "execution_count": 8,
   "metadata": {},
   "outputs": [],
   "source": [
    "cr1=cr.iloc[:,1:13]  #remove loan id"
   ]
  },
  {
   "cell_type": "code",
   "execution_count": 9,
   "metadata": {},
   "outputs": [],
   "source": [
    "cr1.Gender.replace({'Male':1,'Female':0},inplace=True)\n",
    "cr1.Married.replace({'No':0,'Yes':1},inplace=True)\n",
    "cr1.Education.replace({'Graduate':1,'Not Graduate':0},inplace=True)\n",
    "cr1.Self_Employed.replace({'No':0,'Yes':1},inplace=True)\n",
    "cr1.Property_Area.replace({'Semiurban':1,'Urban':2,'Rural':3},inplace=True)\n",
    "cr1.Loan_Status.replace({'Y':1,'N':0},inplace=True)"
   ]
  },
  {
   "cell_type": "code",
   "execution_count": 10,
   "metadata": {},
   "outputs": [
    {
     "name": "stdout",
     "output_type": "stream",
     "text": [
      "<class 'pandas.core.frame.DataFrame'>\n",
      "RangeIndex: 981 entries, 0 to 980\n",
      "Data columns (total 12 columns):\n",
      " #   Column             Non-Null Count  Dtype  \n",
      "---  ------             --------------  -----  \n",
      " 0   Gender             981 non-null    int64  \n",
      " 1   Married            981 non-null    int64  \n",
      " 2   Dependents         981 non-null    float64\n",
      " 3   Education          981 non-null    int64  \n",
      " 4   Self_Employed      981 non-null    int64  \n",
      " 5   ApplicantIncome    981 non-null    int64  \n",
      " 6   CoapplicantIncome  981 non-null    float64\n",
      " 7   LoanAmount         981 non-null    float64\n",
      " 8   Loan_Amount_Term   981 non-null    float64\n",
      " 9   Credit_History     981 non-null    float64\n",
      " 10  Property_Area      981 non-null    int64  \n",
      " 11  Loan_Status        981 non-null    int64  \n",
      "dtypes: float64(5), int64(7)\n",
      "memory usage: 92.1 KB\n"
     ]
    }
   ],
   "source": [
    "cr1.info()"
   ]
  },
  {
   "cell_type": "code",
   "execution_count": 11,
   "metadata": {},
   "outputs": [],
   "source": [
    "from sklearn.preprocessing import LabelEncoder\n",
    "le=LabelEncoder()"
   ]
  },
  {
   "cell_type": "code",
   "execution_count": 13,
   "metadata": {},
   "outputs": [],
   "source": [
    "#cr1[cr1.select_dtypes(include=['object']).columns]=cr1[cr1.select_dtypes(include=['object']).columns].apply(le.fit_transform)"
   ]
  },
  {
   "cell_type": "code",
   "execution_count": 14,
   "metadata": {},
   "outputs": [],
   "source": [
    "from sklearn.model_selection import train_test_split"
   ]
  },
  {
   "cell_type": "code",
   "execution_count": 15,
   "metadata": {},
   "outputs": [],
   "source": [
    "cr1_x=cr1.iloc[:,0:11]\n",
    "cr1_y=cr1.iloc[:,-1]"
   ]
  },
  {
   "cell_type": "code",
   "execution_count": 16,
   "metadata": {},
   "outputs": [],
   "source": [
    "cr1_x_train,cr1_x_test,cr1_y_train,cr1_y_test=train_test_split(cr1_x,cr1_y,test_size=.2,random_state=555)"
   ]
  },
  {
   "cell_type": "code",
   "execution_count": 17,
   "metadata": {},
   "outputs": [],
   "source": [
    "from sklearn.linear_model import LogisticRegression"
   ]
  },
  {
   "cell_type": "code",
   "execution_count": 18,
   "metadata": {},
   "outputs": [],
   "source": [
    "logmodel=LogisticRegression()"
   ]
  },
  {
   "cell_type": "code",
   "execution_count": 19,
   "metadata": {},
   "outputs": [
    {
     "data": {
      "text/plain": [
       "LogisticRegression()"
      ]
     },
     "execution_count": 19,
     "metadata": {},
     "output_type": "execute_result"
    }
   ],
   "source": [
    "logmodel.fit(cr1_x_train,cr1_y_train)"
   ]
  },
  {
   "cell_type": "code",
   "execution_count": 20,
   "metadata": {},
   "outputs": [
    {
     "data": {
      "text/plain": [
       "array([1, 1, 1, 0, 1, 1, 0, 1, 1, 0, 1, 1, 1, 1, 1, 0, 1, 1, 0, 1, 1, 1,\n",
       "       1, 1, 0, 0, 1, 1, 0, 1, 1, 1, 1, 1, 0, 1, 1, 1, 1, 0, 1, 1, 1, 1,\n",
       "       1, 1, 1, 0, 0, 1, 0, 1, 1, 1, 1, 0, 0, 1, 1, 0, 0, 1, 1, 1, 1, 1,\n",
       "       1, 1, 1, 1, 1, 1, 1, 1, 1, 0, 1, 1, 1, 1, 0, 1, 1, 1, 1, 1, 1, 1,\n",
       "       0, 0, 1, 1, 1, 0, 1, 1, 1, 1, 1, 1, 1, 1, 0, 1, 1, 1, 1, 1, 1, 1,\n",
       "       1, 0, 0, 1, 1, 0, 0, 0, 0, 1, 0, 1, 1, 1, 1, 1, 0, 1, 1, 1, 1, 1,\n",
       "       1, 0, 1, 1, 1, 0, 1, 1, 1, 1, 1, 1, 1, 1, 1, 1, 1, 0, 1, 1, 0, 1,\n",
       "       1, 1, 1, 1, 1, 1, 1, 1, 0, 0, 1, 1, 1, 1, 1, 1, 1, 1, 0, 1, 0, 1,\n",
       "       1, 0, 0, 0, 1, 1, 1, 1, 1, 1, 0, 1, 1, 1, 1, 1, 1, 1, 1, 1, 1],\n",
       "      dtype=int64)"
      ]
     },
     "execution_count": 20,
     "metadata": {},
     "output_type": "execute_result"
    }
   ],
   "source": [
    "pred_value=logmodel.predict(cr1_x_test)\n",
    "pred_value"
   ]
  },
  {
   "cell_type": "code",
   "execution_count": 21,
   "metadata": {},
   "outputs": [],
   "source": [
    "from sklearn.metrics import confusion_matrix\n",
    "#sklearn.metrics includes many linear reg functions ......explore it"
   ]
  },
  {
   "cell_type": "code",
   "execution_count": 22,
   "metadata": {},
   "outputs": [],
   "source": [
    "tab1=confusion_matrix(pred_value,cr1_y_test)"
   ]
  },
  {
   "cell_type": "code",
   "execution_count": 23,
   "metadata": {},
   "outputs": [
    {
     "data": {
      "text/plain": [
       "array([[ 28,  15],\n",
       "       [ 33, 121]], dtype=int64)"
      ]
     },
     "execution_count": 23,
     "metadata": {},
     "output_type": "execute_result"
    }
   ],
   "source": [
    "tab1"
   ]
  },
  {
   "cell_type": "code",
   "execution_count": 24,
   "metadata": {},
   "outputs": [
    {
     "data": {
      "text/plain": [
       "75.63451776649747"
      ]
     },
     "execution_count": 24,
     "metadata": {},
     "output_type": "execute_result"
    }
   ],
   "source": [
    "tab1.diagonal().sum()* 100 / tab1.sum()"
   ]
  },
  {
   "cell_type": "code",
   "execution_count": 25,
   "metadata": {},
   "outputs": [
    {
     "data": {
      "text/plain": [
       "array([[0.11982944, 0.88017056],\n",
       "       [0.11763677, 0.88236323],\n",
       "       [0.15897438, 0.84102562],\n",
       "       [0.77384086, 0.22615914],\n",
       "       [0.29660928, 0.70339072],\n",
       "       [0.10512923, 0.89487077],\n",
       "       [0.60602856, 0.39397144],\n",
       "       [0.08855482, 0.91144518],\n",
       "       [0.09132413, 0.90867587],\n",
       "       [0.54217345, 0.45782655],\n",
       "       [0.06555439, 0.93444561],\n",
       "       [0.05994116, 0.94005884],\n",
       "       [0.11979301, 0.88020699],\n",
       "       [0.2359335 , 0.7640665 ],\n",
       "       [0.0637117 , 0.9362883 ],\n",
       "       [0.59437963, 0.40562037],\n",
       "       [0.13238067, 0.86761933],\n",
       "       [0.0683354 , 0.9316646 ],\n",
       "       [0.81494659, 0.18505341],\n",
       "       [0.1989615 , 0.8010385 ],\n",
       "       [0.15781508, 0.84218492],\n",
       "       [0.1224623 , 0.8775377 ],\n",
       "       [0.1533618 , 0.8466382 ],\n",
       "       [0.07197139, 0.92802861],\n",
       "       [0.782748  , 0.217252  ],\n",
       "       [0.7967634 , 0.2032366 ],\n",
       "       [0.16152642, 0.83847358],\n",
       "       [0.17447077, 0.82552923],\n",
       "       [0.50629471, 0.49370529],\n",
       "       [0.11963525, 0.88036475],\n",
       "       [0.18541942, 0.81458058],\n",
       "       [0.09786803, 0.90213197],\n",
       "       [0.23873432, 0.76126568],\n",
       "       [0.05804344, 0.94195656],\n",
       "       [0.80070279, 0.19929721],\n",
       "       [0.13919566, 0.86080434],\n",
       "       [0.08100106, 0.91899894],\n",
       "       [0.24792981, 0.75207019],\n",
       "       [0.17455377, 0.82544623],\n",
       "       [0.59677404, 0.40322596],\n",
       "       [0.31419595, 0.68580405],\n",
       "       [0.07778884, 0.92221116],\n",
       "       [0.08396759, 0.91603241],\n",
       "       [0.16834868, 0.83165132],\n",
       "       [0.08045786, 0.91954214],\n",
       "       [0.16897658, 0.83102342],\n",
       "       [0.332386  , 0.667614  ],\n",
       "       [0.62869226, 0.37130774],\n",
       "       [0.53718387, 0.46281613],\n",
       "       [0.32409202, 0.67590798],\n",
       "       [0.60060321, 0.39939679],\n",
       "       [0.07032686, 0.92967314],\n",
       "       [0.46959076, 0.53040924],\n",
       "       [0.07599812, 0.92400188],\n",
       "       [0.12978197, 0.87021803],\n",
       "       [0.78957674, 0.21042326],\n",
       "       [0.60295732, 0.39704268],\n",
       "       [0.13583969, 0.86416031],\n",
       "       [0.16433729, 0.83566271],\n",
       "       [0.83597821, 0.16402179],\n",
       "       [0.80473232, 0.19526768],\n",
       "       [0.15347243, 0.84652757],\n",
       "       [0.1024326 , 0.8975674 ],\n",
       "       [0.18372251, 0.81627749],\n",
       "       [0.05530217, 0.94469783],\n",
       "       [0.10540901, 0.89459099],\n",
       "       [0.24812032, 0.75187968],\n",
       "       [0.17425431, 0.82574569],\n",
       "       [0.10185951, 0.89814049],\n",
       "       [0.47660235, 0.52339765],\n",
       "       [0.47417444, 0.52582556],\n",
       "       [0.10844255, 0.89155745],\n",
       "       [0.2403281 , 0.7596719 ],\n",
       "       [0.1834941 , 0.8165059 ],\n",
       "       [0.48054641, 0.51945359],\n",
       "       [0.66623088, 0.33376912],\n",
       "       [0.11936492, 0.88063508],\n",
       "       [0.16838778, 0.83161222],\n",
       "       [0.10450464, 0.89549536],\n",
       "       [0.14836523, 0.85163477],\n",
       "       [0.54929767, 0.45070233],\n",
       "       [0.10550524, 0.89449476],\n",
       "       [0.17216567, 0.82783433],\n",
       "       [0.1082221 , 0.8917779 ],\n",
       "       [0.30204264, 0.69795736],\n",
       "       [0.13815083, 0.86184917],\n",
       "       [0.11376248, 0.88623752],\n",
       "       [0.14206848, 0.85793152],\n",
       "       [0.57258459, 0.42741541],\n",
       "       [0.59769921, 0.40230079],\n",
       "       [0.08814781, 0.91185219],\n",
       "       [0.13993169, 0.86006831],\n",
       "       [0.13145047, 0.86854953],\n",
       "       [0.5958195 , 0.4041805 ],\n",
       "       [0.15510424, 0.84489576],\n",
       "       [0.08117995, 0.91882005],\n",
       "       [0.11571856, 0.88428144],\n",
       "       [0.15132346, 0.84867654],\n",
       "       [0.19182953, 0.80817047],\n",
       "       [0.13680751, 0.86319249],\n",
       "       [0.17551306, 0.82448694],\n",
       "       [0.12192647, 0.87807353],\n",
       "       [0.52634249, 0.47365751],\n",
       "       [0.14965913, 0.85034087],\n",
       "       [0.06701255, 0.93298745],\n",
       "       [0.47682484, 0.52317516],\n",
       "       [0.28019688, 0.71980312],\n",
       "       [0.08641035, 0.91358965],\n",
       "       [0.15413355, 0.84586645],\n",
       "       [0.23816218, 0.76183782],\n",
       "       [0.07588305, 0.92411695],\n",
       "       [0.59176835, 0.40823165],\n",
       "       [0.57613399, 0.42386601],\n",
       "       [0.11183427, 0.88816573],\n",
       "       [0.07248326, 0.92751674],\n",
       "       [0.61813062, 0.38186938],\n",
       "       [0.54831685, 0.45168315],\n",
       "       [0.59792267, 0.40207733],\n",
       "       [0.6559786 , 0.3440214 ],\n",
       "       [0.08817016, 0.91182984],\n",
       "       [0.58757771, 0.41242229],\n",
       "       [0.07437626, 0.92562374],\n",
       "       [0.15745975, 0.84254025],\n",
       "       [0.07814188, 0.92185812],\n",
       "       [0.15236741, 0.84763259],\n",
       "       [0.12554394, 0.87445606],\n",
       "       [0.73081265, 0.26918735],\n",
       "       [0.16822423, 0.83177577],\n",
       "       [0.08903252, 0.91096748],\n",
       "       [0.13105449, 0.86894551],\n",
       "       [0.18269797, 0.81730203],\n",
       "       [0.09917484, 0.90082516],\n",
       "       [0.09406053, 0.90593947],\n",
       "       [0.78539352, 0.21460648],\n",
       "       [0.06667681, 0.93332319],\n",
       "       [0.19277604, 0.80722396],\n",
       "       [0.06607112, 0.93392888],\n",
       "       [0.74852005, 0.25147995],\n",
       "       [0.0721159 , 0.9278841 ],\n",
       "       [0.14082856, 0.85917144],\n",
       "       [0.11494613, 0.88505387],\n",
       "       [0.10495461, 0.89504539],\n",
       "       [0.08284473, 0.91715527],\n",
       "       [0.24244485, 0.75755515],\n",
       "       [0.30687494, 0.69312506],\n",
       "       [0.09583638, 0.90416362],\n",
       "       [0.06522698, 0.93477302],\n",
       "       [0.46879538, 0.53120462],\n",
       "       [0.09255004, 0.90744996],\n",
       "       [0.58554721, 0.41445279],\n",
       "       [0.17038783, 0.82961217],\n",
       "       [0.11957867, 0.88042133],\n",
       "       [0.78986669, 0.21013331],\n",
       "       [0.1350679 , 0.8649321 ],\n",
       "       [0.07106242, 0.92893758],\n",
       "       [0.23123102, 0.76876898],\n",
       "       [0.17994707, 0.82005293],\n",
       "       [0.11674208, 0.88325792],\n",
       "       [0.11027566, 0.88972434],\n",
       "       [0.13275723, 0.86724277],\n",
       "       [0.09786519, 0.90213481],\n",
       "       [0.14289112, 0.85710888],\n",
       "       [0.81330814, 0.18669186],\n",
       "       [0.75421   , 0.24579   ],\n",
       "       [0.20208996, 0.79791004],\n",
       "       [0.22237326, 0.77762674],\n",
       "       [0.18989802, 0.81010198],\n",
       "       [0.11719978, 0.88280022],\n",
       "       [0.09374993, 0.90625007],\n",
       "       [0.28498071, 0.71501929],\n",
       "       [0.06677187, 0.93322813],\n",
       "       [0.45699255, 0.54300745],\n",
       "       [0.68955262, 0.31044738],\n",
       "       [0.08370898, 0.91629102],\n",
       "       [0.56551065, 0.43448935],\n",
       "       [0.08669416, 0.91330584],\n",
       "       [0.16888779, 0.83111221],\n",
       "       [0.57109215, 0.42890785],\n",
       "       [0.84770198, 0.15229802],\n",
       "       [0.67852746, 0.32147254],\n",
       "       [0.14584707, 0.85415293],\n",
       "       [0.07069375, 0.92930625],\n",
       "       [0.08123476, 0.91876524],\n",
       "       [0.16691797, 0.83308203],\n",
       "       [0.25951222, 0.74048778],\n",
       "       [0.19212253, 0.80787747],\n",
       "       [0.65114099, 0.34885901],\n",
       "       [0.2561247 , 0.7438753 ],\n",
       "       [0.14261724, 0.85738276],\n",
       "       [0.08158356, 0.91841644],\n",
       "       [0.17997712, 0.82002288],\n",
       "       [0.1720179 , 0.8279821 ],\n",
       "       [0.16659537, 0.83340463],\n",
       "       [0.07566921, 0.92433079],\n",
       "       [0.10755879, 0.89244121],\n",
       "       [0.09212815, 0.90787185],\n",
       "       [0.16831729, 0.83168271]])"
      ]
     },
     "execution_count": 25,
     "metadata": {},
     "output_type": "execute_result"
    }
   ],
   "source": [
    "logmodel.predict_proba(cr1_x_test)"
   ]
  },
  {
   "cell_type": "code",
   "execution_count": 26,
   "metadata": {},
   "outputs": [
    {
     "data": {
      "text/plain": [
       "array([1, 1, 1, 0, 1, 1, 0, 1, 1, 0, 1, 1, 1, 1, 1, 0, 1, 1, 0, 1, 1, 1,\n",
       "       1, 1, 0, 0, 1, 1, 0, 1, 1, 1, 1, 1, 0, 1, 1, 1, 1, 0, 1, 1, 1, 1,\n",
       "       1, 1, 1, 0, 0, 1, 0, 1, 1, 1, 1, 0, 0, 1, 1, 0, 0, 1, 1, 1, 1, 1,\n",
       "       1, 1, 1, 1, 1, 1, 1, 1, 1, 0, 1, 1, 1, 1, 0, 1, 1, 1, 1, 1, 1, 1,\n",
       "       0, 0, 1, 1, 1, 0, 1, 1, 1, 1, 1, 1, 1, 1, 0, 1, 1, 1, 1, 1, 1, 1,\n",
       "       1, 0, 0, 1, 1, 0, 0, 0, 0, 1, 0, 1, 1, 1, 1, 1, 0, 1, 1, 1, 1, 1,\n",
       "       1, 0, 1, 1, 1, 0, 1, 1, 1, 1, 1, 1, 1, 1, 1, 1, 1, 0, 1, 1, 0, 1,\n",
       "       1, 1, 1, 1, 1, 1, 1, 1, 0, 0, 1, 1, 1, 1, 1, 1, 1, 1, 0, 1, 0, 1,\n",
       "       1, 0, 0, 0, 1, 1, 1, 1, 1, 1, 0, 1, 1, 1, 1, 1, 1, 1, 1, 1, 1],\n",
       "      dtype=int64)"
      ]
     },
     "execution_count": 26,
     "metadata": {},
     "output_type": "execute_result"
    }
   ],
   "source": [
    "logmodel.predict(cr1_x_test)   # getting the results of records"
   ]
  },
  {
   "cell_type": "code",
   "execution_count": 27,
   "metadata": {},
   "outputs": [
    {
     "data": {
      "text/plain": [
       "(1, 11)"
      ]
     },
     "execution_count": 27,
     "metadata": {},
     "output_type": "execute_result"
    }
   ],
   "source": [
    "logmodel.coef_.shape"
   ]
  },
  {
   "cell_type": "code",
   "execution_count": 28,
   "metadata": {},
   "outputs": [],
   "source": [
    "aa=logmodel.coef_.reshape(11,1)"
   ]
  },
  {
   "cell_type": "code",
   "execution_count": 29,
   "metadata": {},
   "outputs": [],
   "source": [
    "df1=pd.DataFrame()"
   ]
  },
  {
   "cell_type": "code",
   "execution_count": 30,
   "metadata": {},
   "outputs": [],
   "source": [
    "df1['beta']=list(aa)\n",
    "df1['Feature_Names']=list(cr1_x.columns)"
   ]
  },
  {
   "cell_type": "code",
   "execution_count": 31,
   "metadata": {},
   "outputs": [
    {
     "data": {
      "text/html": [
       "<div>\n",
       "<style scoped>\n",
       "    .dataframe tbody tr th:only-of-type {\n",
       "        vertical-align: middle;\n",
       "    }\n",
       "\n",
       "    .dataframe tbody tr th {\n",
       "        vertical-align: top;\n",
       "    }\n",
       "\n",
       "    .dataframe thead th {\n",
       "        text-align: right;\n",
       "    }\n",
       "</style>\n",
       "<table border=\"1\" class=\"dataframe\">\n",
       "  <thead>\n",
       "    <tr style=\"text-align: right;\">\n",
       "      <th></th>\n",
       "      <th>beta</th>\n",
       "      <th>Feature_Names</th>\n",
       "    </tr>\n",
       "  </thead>\n",
       "  <tbody>\n",
       "    <tr>\n",
       "      <th>9</th>\n",
       "      <td>[2.456961491903446]</td>\n",
       "      <td>Credit_History</td>\n",
       "    </tr>\n",
       "    <tr>\n",
       "      <th>3</th>\n",
       "      <td>[0.42765245637731397]</td>\n",
       "      <td>Education</td>\n",
       "    </tr>\n",
       "    <tr>\n",
       "      <th>1</th>\n",
       "      <td>[0.3674239197553569]</td>\n",
       "      <td>Married</td>\n",
       "    </tr>\n",
       "    <tr>\n",
       "      <th>0</th>\n",
       "      <td>[0.09385561805109455]</td>\n",
       "      <td>Gender</td>\n",
       "    </tr>\n",
       "    <tr>\n",
       "      <th>2</th>\n",
       "      <td>[0.030124415235002054]</td>\n",
       "      <td>Dependents</td>\n",
       "    </tr>\n",
       "    <tr>\n",
       "      <th>5</th>\n",
       "      <td>[1.6107109230574523e-05]</td>\n",
       "      <td>ApplicantIncome</td>\n",
       "    </tr>\n",
       "    <tr>\n",
       "      <th>6</th>\n",
       "      <td>[-3.163684625296281e-05]</td>\n",
       "      <td>CoapplicantIncome</td>\n",
       "    </tr>\n",
       "    <tr>\n",
       "      <th>8</th>\n",
       "      <td>[-0.0008289530914626342]</td>\n",
       "      <td>Loan_Amount_Term</td>\n",
       "    </tr>\n",
       "    <tr>\n",
       "      <th>7</th>\n",
       "      <td>[-0.0021565072928179277]</td>\n",
       "      <td>LoanAmount</td>\n",
       "    </tr>\n",
       "    <tr>\n",
       "      <th>4</th>\n",
       "      <td>[-0.012216593484427914]</td>\n",
       "      <td>Self_Employed</td>\n",
       "    </tr>\n",
       "    <tr>\n",
       "      <th>10</th>\n",
       "      <td>[-0.49905413871549015]</td>\n",
       "      <td>Property_Area</td>\n",
       "    </tr>\n",
       "  </tbody>\n",
       "</table>\n",
       "</div>"
      ],
      "text/plain": [
       "                        beta      Feature_Names\n",
       "9        [2.456961491903446]     Credit_History\n",
       "3      [0.42765245637731397]          Education\n",
       "1       [0.3674239197553569]            Married\n",
       "0      [0.09385561805109455]             Gender\n",
       "2     [0.030124415235002054]         Dependents\n",
       "5   [1.6107109230574523e-05]    ApplicantIncome\n",
       "6   [-3.163684625296281e-05]  CoapplicantIncome\n",
       "8   [-0.0008289530914626342]   Loan_Amount_Term\n",
       "7   [-0.0021565072928179277]         LoanAmount\n",
       "4    [-0.012216593484427914]      Self_Employed\n",
       "10    [-0.49905413871549015]      Property_Area"
      ]
     },
     "execution_count": 31,
     "metadata": {},
     "output_type": "execute_result"
    }
   ],
   "source": [
    "df1.sort_values('beta',ascending=False)"
   ]
  },
  {
   "cell_type": "code",
   "execution_count": 32,
   "metadata": {},
   "outputs": [],
   "source": [
    "#2 use this data for running the marketing campaigne/sales strategy to target the good customers\n",
    "\n",
    "#eg india vs rival\n",
    "# 1(.9  ,.1)  /\n",
    "#2(.8 , .2)  /\n",
    "#3(.51, .49) /\n",
    "#4(.1, .99) /"
   ]
  },
  {
   "cell_type": "code",
   "execution_count": 33,
   "metadata": {},
   "outputs": [],
   "source": [
    "#do the predictiion on full data"
   ]
  },
  {
   "cell_type": "code",
   "execution_count": 34,
   "metadata": {},
   "outputs": [],
   "source": [
    "pred_prob_full=logmodel.predict_proba(cr1_x)"
   ]
  },
  {
   "cell_type": "code",
   "execution_count": 35,
   "metadata": {},
   "outputs": [
    {
     "data": {
      "text/plain": [
       "array([[0.15543697, 0.84456303],\n",
       "       [0.17447077, 0.82552923],\n",
       "       [0.10276298, 0.89723702],\n",
       "       ...,\n",
       "       [0.58288689, 0.41711311],\n",
       "       [0.19182953, 0.80817047],\n",
       "       [0.18535429, 0.81464571]])"
      ]
     },
     "execution_count": 35,
     "metadata": {},
     "output_type": "execute_result"
    }
   ],
   "source": [
    "pred_prob_full"
   ]
  },
  {
   "cell_type": "code",
   "execution_count": 36,
   "metadata": {},
   "outputs": [],
   "source": [
    "pred_prob_full=pd.DataFrame(pred_prob_full)   #convert into dataframe"
   ]
  },
  {
   "cell_type": "code",
   "execution_count": 37,
   "metadata": {},
   "outputs": [
    {
     "data": {
      "text/html": [
       "<div>\n",
       "<style scoped>\n",
       "    .dataframe tbody tr th:only-of-type {\n",
       "        vertical-align: middle;\n",
       "    }\n",
       "\n",
       "    .dataframe tbody tr th {\n",
       "        vertical-align: top;\n",
       "    }\n",
       "\n",
       "    .dataframe thead th {\n",
       "        text-align: right;\n",
       "    }\n",
       "</style>\n",
       "<table border=\"1\" class=\"dataframe\">\n",
       "  <thead>\n",
       "    <tr style=\"text-align: right;\">\n",
       "      <th></th>\n",
       "      <th>0</th>\n",
       "      <th>1</th>\n",
       "    </tr>\n",
       "  </thead>\n",
       "  <tbody>\n",
       "    <tr>\n",
       "      <th>0</th>\n",
       "      <td>0.155437</td>\n",
       "      <td>0.844563</td>\n",
       "    </tr>\n",
       "    <tr>\n",
       "      <th>1</th>\n",
       "      <td>0.174471</td>\n",
       "      <td>0.825529</td>\n",
       "    </tr>\n",
       "    <tr>\n",
       "      <th>2</th>\n",
       "      <td>0.102763</td>\n",
       "      <td>0.897237</td>\n",
       "    </tr>\n",
       "    <tr>\n",
       "      <th>3</th>\n",
       "      <td>0.174554</td>\n",
       "      <td>0.825446</td>\n",
       "    </tr>\n",
       "    <tr>\n",
       "      <th>4</th>\n",
       "      <td>0.154691</td>\n",
       "      <td>0.845309</td>\n",
       "    </tr>\n",
       "  </tbody>\n",
       "</table>\n",
       "</div>"
      ],
      "text/plain": [
       "          0         1\n",
       "0  0.155437  0.844563\n",
       "1  0.174471  0.825529\n",
       "2  0.102763  0.897237\n",
       "3  0.174554  0.825446\n",
       "4  0.154691  0.845309"
      ]
     },
     "execution_count": 37,
     "metadata": {},
     "output_type": "execute_result"
    }
   ],
   "source": [
    "pred_prob_full.head()"
   ]
  },
  {
   "cell_type": "code",
   "execution_count": 38,
   "metadata": {},
   "outputs": [],
   "source": [
    "pred_prob_full.rename(columns={pred_prob_full.columns[0]:'Prob0',pred_prob_full.columns[1]:'Prob1'},inplace=True)"
   ]
  },
  {
   "cell_type": "code",
   "execution_count": 39,
   "metadata": {},
   "outputs": [
    {
     "data": {
      "text/html": [
       "<div>\n",
       "<style scoped>\n",
       "    .dataframe tbody tr th:only-of-type {\n",
       "        vertical-align: middle;\n",
       "    }\n",
       "\n",
       "    .dataframe tbody tr th {\n",
       "        vertical-align: top;\n",
       "    }\n",
       "\n",
       "    .dataframe thead th {\n",
       "        text-align: right;\n",
       "    }\n",
       "</style>\n",
       "<table border=\"1\" class=\"dataframe\">\n",
       "  <thead>\n",
       "    <tr style=\"text-align: right;\">\n",
       "      <th></th>\n",
       "      <th>Prob0</th>\n",
       "      <th>Prob1</th>\n",
       "    </tr>\n",
       "  </thead>\n",
       "  <tbody>\n",
       "    <tr>\n",
       "      <th>0</th>\n",
       "      <td>0.155437</td>\n",
       "      <td>0.844563</td>\n",
       "    </tr>\n",
       "    <tr>\n",
       "      <th>1</th>\n",
       "      <td>0.174471</td>\n",
       "      <td>0.825529</td>\n",
       "    </tr>\n",
       "    <tr>\n",
       "      <th>2</th>\n",
       "      <td>0.102763</td>\n",
       "      <td>0.897237</td>\n",
       "    </tr>\n",
       "    <tr>\n",
       "      <th>3</th>\n",
       "      <td>0.174554</td>\n",
       "      <td>0.825446</td>\n",
       "    </tr>\n",
       "    <tr>\n",
       "      <th>4</th>\n",
       "      <td>0.154691</td>\n",
       "      <td>0.845309</td>\n",
       "    </tr>\n",
       "    <tr>\n",
       "      <th>...</th>\n",
       "      <td>...</td>\n",
       "      <td>...</td>\n",
       "    </tr>\n",
       "    <tr>\n",
       "      <th>976</th>\n",
       "      <td>0.152075</td>\n",
       "      <td>0.847925</td>\n",
       "    </tr>\n",
       "    <tr>\n",
       "      <th>977</th>\n",
       "      <td>0.112080</td>\n",
       "      <td>0.887920</td>\n",
       "    </tr>\n",
       "    <tr>\n",
       "      <th>978</th>\n",
       "      <td>0.582887</td>\n",
       "      <td>0.417113</td>\n",
       "    </tr>\n",
       "    <tr>\n",
       "      <th>979</th>\n",
       "      <td>0.191830</td>\n",
       "      <td>0.808170</td>\n",
       "    </tr>\n",
       "    <tr>\n",
       "      <th>980</th>\n",
       "      <td>0.185354</td>\n",
       "      <td>0.814646</td>\n",
       "    </tr>\n",
       "  </tbody>\n",
       "</table>\n",
       "<p>981 rows × 2 columns</p>\n",
       "</div>"
      ],
      "text/plain": [
       "        Prob0     Prob1\n",
       "0    0.155437  0.844563\n",
       "1    0.174471  0.825529\n",
       "2    0.102763  0.897237\n",
       "3    0.174554  0.825446\n",
       "4    0.154691  0.845309\n",
       "..        ...       ...\n",
       "976  0.152075  0.847925\n",
       "977  0.112080  0.887920\n",
       "978  0.582887  0.417113\n",
       "979  0.191830  0.808170\n",
       "980  0.185354  0.814646\n",
       "\n",
       "[981 rows x 2 columns]"
      ]
     },
     "execution_count": 39,
     "metadata": {},
     "output_type": "execute_result"
    }
   ],
   "source": [
    "pred_prob_full"
   ]
  },
  {
   "cell_type": "code",
   "execution_count": 40,
   "metadata": {},
   "outputs": [],
   "source": [
    "pred_prob_full['Cus_Loan_ID']=cr.Loan_ID"
   ]
  },
  {
   "cell_type": "code",
   "execution_count": 41,
   "metadata": {},
   "outputs": [
    {
     "data": {
      "text/html": [
       "<div>\n",
       "<style scoped>\n",
       "    .dataframe tbody tr th:only-of-type {\n",
       "        vertical-align: middle;\n",
       "    }\n",
       "\n",
       "    .dataframe tbody tr th {\n",
       "        vertical-align: top;\n",
       "    }\n",
       "\n",
       "    .dataframe thead th {\n",
       "        text-align: right;\n",
       "    }\n",
       "</style>\n",
       "<table border=\"1\" class=\"dataframe\">\n",
       "  <thead>\n",
       "    <tr style=\"text-align: right;\">\n",
       "      <th></th>\n",
       "      <th>Prob0</th>\n",
       "      <th>Prob1</th>\n",
       "      <th>Cus_Loan_ID</th>\n",
       "    </tr>\n",
       "  </thead>\n",
       "  <tbody>\n",
       "    <tr>\n",
       "      <th>0</th>\n",
       "      <td>0.155437</td>\n",
       "      <td>0.844563</td>\n",
       "      <td>LP001002</td>\n",
       "    </tr>\n",
       "    <tr>\n",
       "      <th>1</th>\n",
       "      <td>0.174471</td>\n",
       "      <td>0.825529</td>\n",
       "      <td>LP001003</td>\n",
       "    </tr>\n",
       "    <tr>\n",
       "      <th>2</th>\n",
       "      <td>0.102763</td>\n",
       "      <td>0.897237</td>\n",
       "      <td>LP001005</td>\n",
       "    </tr>\n",
       "    <tr>\n",
       "      <th>3</th>\n",
       "      <td>0.174554</td>\n",
       "      <td>0.825446</td>\n",
       "      <td>LP001006</td>\n",
       "    </tr>\n",
       "    <tr>\n",
       "      <th>4</th>\n",
       "      <td>0.154691</td>\n",
       "      <td>0.845309</td>\n",
       "      <td>LP001008</td>\n",
       "    </tr>\n",
       "    <tr>\n",
       "      <th>...</th>\n",
       "      <td>...</td>\n",
       "      <td>...</td>\n",
       "      <td>...</td>\n",
       "    </tr>\n",
       "    <tr>\n",
       "      <th>976</th>\n",
       "      <td>0.152075</td>\n",
       "      <td>0.847925</td>\n",
       "      <td>LP002971</td>\n",
       "    </tr>\n",
       "    <tr>\n",
       "      <th>977</th>\n",
       "      <td>0.112080</td>\n",
       "      <td>0.887920</td>\n",
       "      <td>LP002975</td>\n",
       "    </tr>\n",
       "    <tr>\n",
       "      <th>978</th>\n",
       "      <td>0.582887</td>\n",
       "      <td>0.417113</td>\n",
       "      <td>LP002980</td>\n",
       "    </tr>\n",
       "    <tr>\n",
       "      <th>979</th>\n",
       "      <td>0.191830</td>\n",
       "      <td>0.808170</td>\n",
       "      <td>LP002986</td>\n",
       "    </tr>\n",
       "    <tr>\n",
       "      <th>980</th>\n",
       "      <td>0.185354</td>\n",
       "      <td>0.814646</td>\n",
       "      <td>LP002989</td>\n",
       "    </tr>\n",
       "  </tbody>\n",
       "</table>\n",
       "<p>981 rows × 3 columns</p>\n",
       "</div>"
      ],
      "text/plain": [
       "        Prob0     Prob1 Cus_Loan_ID\n",
       "0    0.155437  0.844563    LP001002\n",
       "1    0.174471  0.825529    LP001003\n",
       "2    0.102763  0.897237    LP001005\n",
       "3    0.174554  0.825446    LP001006\n",
       "4    0.154691  0.845309    LP001008\n",
       "..        ...       ...         ...\n",
       "976  0.152075  0.847925    LP002971\n",
       "977  0.112080  0.887920    LP002975\n",
       "978  0.582887  0.417113    LP002980\n",
       "979  0.191830  0.808170    LP002986\n",
       "980  0.185354  0.814646    LP002989\n",
       "\n",
       "[981 rows x 3 columns]"
      ]
     },
     "execution_count": 41,
     "metadata": {},
     "output_type": "execute_result"
    }
   ],
   "source": [
    "pred_prob_full"
   ]
  },
  {
   "cell_type": "code",
   "execution_count": null,
   "metadata": {},
   "outputs": [],
   "source": []
  },
  {
   "cell_type": "code",
   "execution_count": 42,
   "metadata": {
    "scrolled": true
   },
   "outputs": [
    {
     "data": {
      "text/html": [
       "<div>\n",
       "<style scoped>\n",
       "    .dataframe tbody tr th:only-of-type {\n",
       "        vertical-align: middle;\n",
       "    }\n",
       "\n",
       "    .dataframe tbody tr th {\n",
       "        vertical-align: top;\n",
       "    }\n",
       "\n",
       "    .dataframe thead th {\n",
       "        text-align: right;\n",
       "    }\n",
       "</style>\n",
       "<table border=\"1\" class=\"dataframe\">\n",
       "  <thead>\n",
       "    <tr style=\"text-align: right;\">\n",
       "      <th></th>\n",
       "      <th>Prob0</th>\n",
       "      <th>Prob1</th>\n",
       "      <th>Cus_Loan_ID</th>\n",
       "    </tr>\n",
       "  </thead>\n",
       "  <tbody>\n",
       "    <tr>\n",
       "      <th>185</th>\n",
       "      <td>0.048271</td>\n",
       "      <td>0.951729</td>\n",
       "      <td>LP001640</td>\n",
       "    </tr>\n",
       "    <tr>\n",
       "      <th>133</th>\n",
       "      <td>0.049233</td>\n",
       "      <td>0.950767</td>\n",
       "      <td>LP001482</td>\n",
       "    </tr>\n",
       "    <tr>\n",
       "      <th>673</th>\n",
       "      <td>0.050988</td>\n",
       "      <td>0.949012</td>\n",
       "      <td>LP001324</td>\n",
       "    </tr>\n",
       "    <tr>\n",
       "      <th>182</th>\n",
       "      <td>0.055302</td>\n",
       "      <td>0.944698</td>\n",
       "      <td>LP001636</td>\n",
       "    </tr>\n",
       "    <tr>\n",
       "      <th>424</th>\n",
       "      <td>0.057064</td>\n",
       "      <td>0.942936</td>\n",
       "      <td>LP002364</td>\n",
       "    </tr>\n",
       "    <tr>\n",
       "      <th>...</th>\n",
       "      <td>...</td>\n",
       "      <td>...</td>\n",
       "      <td>...</td>\n",
       "    </tr>\n",
       "    <tr>\n",
       "      <th>965</th>\n",
       "      <td>0.847702</td>\n",
       "      <td>0.152298</td>\n",
       "      <td>LP002901</td>\n",
       "    </tr>\n",
       "    <tr>\n",
       "      <th>130</th>\n",
       "      <td>0.850671</td>\n",
       "      <td>0.149329</td>\n",
       "      <td>LP001469</td>\n",
       "    </tr>\n",
       "    <tr>\n",
       "      <th>761</th>\n",
       "      <td>0.855592</td>\n",
       "      <td>0.144408</td>\n",
       "      <td>LP001817</td>\n",
       "    </tr>\n",
       "    <tr>\n",
       "      <th>639</th>\n",
       "      <td>0.893668</td>\n",
       "      <td>0.106332</td>\n",
       "      <td>LP001153</td>\n",
       "    </tr>\n",
       "    <tr>\n",
       "      <th>600</th>\n",
       "      <td>0.920848</td>\n",
       "      <td>0.079152</td>\n",
       "      <td>LP002949</td>\n",
       "    </tr>\n",
       "  </tbody>\n",
       "</table>\n",
       "<p>981 rows × 3 columns</p>\n",
       "</div>"
      ],
      "text/plain": [
       "        Prob0     Prob1 Cus_Loan_ID\n",
       "185  0.048271  0.951729    LP001640\n",
       "133  0.049233  0.950767    LP001482\n",
       "673  0.050988  0.949012    LP001324\n",
       "182  0.055302  0.944698    LP001636\n",
       "424  0.057064  0.942936    LP002364\n",
       "..        ...       ...         ...\n",
       "965  0.847702  0.152298    LP002901\n",
       "130  0.850671  0.149329    LP001469\n",
       "761  0.855592  0.144408    LP001817\n",
       "639  0.893668  0.106332    LP001153\n",
       "600  0.920848  0.079152    LP002949\n",
       "\n",
       "[981 rows x 3 columns]"
      ]
     },
     "execution_count": 42,
     "metadata": {},
     "output_type": "execute_result"
    }
   ],
   "source": [
    "pred_prob_full.sort_values('Prob1',ascending=False)"
   ]
  },
  {
   "cell_type": "code",
   "execution_count": 43,
   "metadata": {},
   "outputs": [],
   "source": [
    "pred_prob_full.sort_values('Prob1',ascending=False,inplace=True)"
   ]
  },
  {
   "cell_type": "code",
   "execution_count": 44,
   "metadata": {},
   "outputs": [],
   "source": [
    "pred_prob_full=pred_prob_full.iloc[: ,[1,2]]"
   ]
  },
  {
   "cell_type": "code",
   "execution_count": 45,
   "metadata": {},
   "outputs": [],
   "source": [
    "#pred_full_values"
   ]
  },
  {
   "cell_type": "code",
   "execution_count": 46,
   "metadata": {},
   "outputs": [],
   "source": [
    "from sklearn.metrics import roc_auc_score\n",
    "from sklearn.metrics import roc_curve"
   ]
  },
  {
   "cell_type": "code",
   "execution_count": 47,
   "metadata": {},
   "outputs": [
    {
     "data": {
      "text/plain": [
       "0.6743611378977821"
      ]
     },
     "execution_count": 47,
     "metadata": {},
     "output_type": "execute_result"
    }
   ],
   "source": [
    "cr_auc_score=roc_auc_score(cr1_y_test,pred_value)  #gives the AUROC curve\n",
    "cr_auc_score"
   ]
  },
  {
   "cell_type": "code",
   "execution_count": 48,
   "metadata": {},
   "outputs": [],
   "source": [
    "pred_value_pr=logmodel.predict_proba(cr1_x_test)\n",
    "#pred_value_pr"
   ]
  },
  {
   "cell_type": "code",
   "execution_count": 49,
   "metadata": {},
   "outputs": [],
   "source": [
    "pred_value_pr=pd.DataFrame(pred_value_pr)"
   ]
  },
  {
   "cell_type": "code",
   "execution_count": 50,
   "metadata": {},
   "outputs": [],
   "source": [
    "pred_value_pr=pred_value_pr.iloc[:,-1]"
   ]
  },
  {
   "cell_type": "code",
   "execution_count": 51,
   "metadata": {},
   "outputs": [],
   "source": [
    "fpr,tpr,threshold=roc_curve(cr1_y_test,pred_value_pr)"
   ]
  },
  {
   "cell_type": "code",
   "execution_count": 52,
   "metadata": {},
   "outputs": [],
   "source": [
    "import matplotlib.pyplot as plt"
   ]
  },
  {
   "cell_type": "code",
   "execution_count": 53,
   "metadata": {},
   "outputs": [
    {
     "data": {
      "text/plain": [
       "Text(0.5, 1.0, 'AUROC curve on the Credit Risk')"
      ]
     },
     "execution_count": 53,
     "metadata": {},
     "output_type": "execute_result"
    },
    {
     "data": {
      "image/png": "[encoded data removed]",
      "text/plain": [
       "<Figure size 432x288 with 1 Axes>"
      ]
     },
     "metadata": {
      "needs_background": "light"
     },
     "output_type": "display_data"
    }
   ],
   "source": [
    "plt.plot(fpr,tpr,color='r',label='LogRegModel(Area=%.2f)' %cr_auc_score)\n",
    "\n",
    "plt.xlabel('Fpr')\n",
    "plt.ylabel('Tpr')\n",
    "plt.legend(loc='upper left')\n",
    "plt.title('AUROC curve on the Credit Risk')"
   ]
  },
  {
   "cell_type": "code",
   "execution_count": null,
   "metadata": {},
   "outputs": [],
   "source": []
  },
  {
   "cell_type": "code",
   "execution_count": null,
   "metadata": {},
   "outputs": [],
   "source": []
  },
  {
   "cell_type": "code",
   "execution_count": 54,
   "metadata": {},
   "outputs": [],
   "source": [
    "from sklearn.tree import DecisionTreeClassifier"
   ]
  },
  {
   "cell_type": "code",
   "execution_count": 55,
   "metadata": {},
   "outputs": [],
   "source": [
    "dtree=DecisionTreeClassifier(criterion='entropy')"
   ]
  },
  {
   "cell_type": "code",
   "execution_count": 56,
   "metadata": {},
   "outputs": [
    {
     "data": {
      "text/plain": [
       "DecisionTreeClassifier(criterion='entropy')"
      ]
     },
     "execution_count": 56,
     "metadata": {},
     "output_type": "execute_result"
    }
   ],
   "source": [
    "dtree.fit(cr1_x_train,cr1_y_train)"
   ]
  },
  {
   "cell_type": "code",
   "execution_count": 57,
   "metadata": {},
   "outputs": [],
   "source": [
    "pred_dt=dtree.predict(cr1_x_test)"
   ]
  },
  {
   "cell_type": "code",
   "execution_count": 65,
   "metadata": {},
   "outputs": [],
   "source": [
    "tab2=confusion_matrix(pred_dt,cr1_y_test)"
   ]
  },
  {
   "cell_type": "code",
   "execution_count": 66,
   "metadata": {},
   "outputs": [
    {
     "data": {
      "text/plain": [
       "72.58883248730965"
      ]
     },
     "execution_count": 66,
     "metadata": {},
     "output_type": "execute_result"
    }
   ],
   "source": [
    "tab2.diagonal().sum()  *100/tab2.sum()"
   ]
  },
  {
   "cell_type": "code",
   "execution_count": 67,
   "metadata": {},
   "outputs": [
    {
     "data": {
      "text/plain": [
       "array([0.02245671, 0.01231138, 0.05085579, 0.01438902, 0.01244217,\n",
       "       0.24602423, 0.12031448, 0.22975402, 0.03130339, 0.21215829,\n",
       "       0.04799051])"
      ]
     },
     "execution_count": 67,
     "metadata": {},
     "output_type": "execute_result"
    }
   ],
   "source": [
    "dtree.feature_importances_"
   ]
  },
  {
   "cell_type": "code",
   "execution_count": 68,
   "metadata": {},
   "outputs": [
    {
     "data": {
      "text/plain": [
       "1.0000000000000002"
      ]
     },
     "execution_count": 68,
     "metadata": {},
     "output_type": "execute_result"
    }
   ],
   "source": [
    "dtree.feature_importances_.sum()   #value is 1\n",
    "                                   #higher the score more importance is the feature"
   ]
  },
  {
   "cell_type": "code",
   "execution_count": 69,
   "metadata": {},
   "outputs": [
    {
     "data": {
      "text/plain": [
       "Index(['Gender', 'Married', 'Dependents', 'Education', 'Self_Employed',\n",
       "       'ApplicantIncome', 'CoapplicantIncome', 'LoanAmount',\n",
       "       'Loan_Amount_Term', 'Credit_History', 'Property_Area'],\n",
       "      dtype='object')"
      ]
     },
     "execution_count": 69,
     "metadata": {},
     "output_type": "execute_result"
    }
   ],
   "source": [
    "cr1_x_test.columns"
   ]
  },
  {
   "cell_type": "code",
   "execution_count": 70,
   "metadata": {},
   "outputs": [],
   "source": [
    "feature_importance=pd.DataFrame({'Features':list(cr1_x_test.columns),'Importance':list(dtree.feature_importances_)})"
   ]
  },
  {
   "cell_type": "code",
   "execution_count": 71,
   "metadata": {},
   "outputs": [
    {
     "data": {
      "text/html": [
       "<div>\n",
       "<style scoped>\n",
       "    .dataframe tbody tr th:only-of-type {\n",
       "        vertical-align: middle;\n",
       "    }\n",
       "\n",
       "    .dataframe tbody tr th {\n",
       "        vertical-align: top;\n",
       "    }\n",
       "\n",
       "    .dataframe thead th {\n",
       "        text-align: right;\n",
       "    }\n",
       "</style>\n",
       "<table border=\"1\" class=\"dataframe\">\n",
       "  <thead>\n",
       "    <tr style=\"text-align: right;\">\n",
       "      <th></th>\n",
       "      <th>Features</th>\n",
       "      <th>Importance</th>\n",
       "    </tr>\n",
       "  </thead>\n",
       "  <tbody>\n",
       "    <tr>\n",
       "      <th>5</th>\n",
       "      <td>ApplicantIncome</td>\n",
       "      <td>0.246024</td>\n",
       "    </tr>\n",
       "    <tr>\n",
       "      <th>7</th>\n",
       "      <td>LoanAmount</td>\n",
       "      <td>0.229754</td>\n",
       "    </tr>\n",
       "    <tr>\n",
       "      <th>9</th>\n",
       "      <td>Credit_History</td>\n",
       "      <td>0.212158</td>\n",
       "    </tr>\n",
       "    <tr>\n",
       "      <th>6</th>\n",
       "      <td>CoapplicantIncome</td>\n",
       "      <td>0.120314</td>\n",
       "    </tr>\n",
       "    <tr>\n",
       "      <th>2</th>\n",
       "      <td>Dependents</td>\n",
       "      <td>0.050856</td>\n",
       "    </tr>\n",
       "    <tr>\n",
       "      <th>10</th>\n",
       "      <td>Property_Area</td>\n",
       "      <td>0.047991</td>\n",
       "    </tr>\n",
       "    <tr>\n",
       "      <th>8</th>\n",
       "      <td>Loan_Amount_Term</td>\n",
       "      <td>0.031303</td>\n",
       "    </tr>\n",
       "    <tr>\n",
       "      <th>0</th>\n",
       "      <td>Gender</td>\n",
       "      <td>0.022457</td>\n",
       "    </tr>\n",
       "    <tr>\n",
       "      <th>3</th>\n",
       "      <td>Education</td>\n",
       "      <td>0.014389</td>\n",
       "    </tr>\n",
       "    <tr>\n",
       "      <th>4</th>\n",
       "      <td>Self_Employed</td>\n",
       "      <td>0.012442</td>\n",
       "    </tr>\n",
       "    <tr>\n",
       "      <th>1</th>\n",
       "      <td>Married</td>\n",
       "      <td>0.012311</td>\n",
       "    </tr>\n",
       "  </tbody>\n",
       "</table>\n",
       "</div>"
      ],
      "text/plain": [
       "             Features  Importance\n",
       "5     ApplicantIncome    0.246024\n",
       "7          LoanAmount    0.229754\n",
       "9      Credit_History    0.212158\n",
       "6   CoapplicantIncome    0.120314\n",
       "2          Dependents    0.050856\n",
       "10      Property_Area    0.047991\n",
       "8    Loan_Amount_Term    0.031303\n",
       "0              Gender    0.022457\n",
       "3           Education    0.014389\n",
       "4       Self_Employed    0.012442\n",
       "1             Married    0.012311"
      ]
     },
     "execution_count": 71,
     "metadata": {},
     "output_type": "execute_result"
    }
   ],
   "source": [
    "feature_importance.sort_values('Importance',ascending=False)"
   ]
  },
  {
   "cell_type": "code",
   "execution_count": null,
   "metadata": {},
   "outputs": [],
   "source": []
  },
  {
   "cell_type": "code",
   "execution_count": null,
   "metadata": {},
   "outputs": [],
   "source": []
  },
  {
   "cell_type": "code",
   "execution_count": null,
   "metadata": {},
   "outputs": [],
   "source": []
  }
 ],
 "metadata": {
  "kernelspec": {
   "display_name": "Python 3",
   "language": "python",
   "name": "python3"
  },
  "language_info": {
   "codemirror_mode": {
    "name": "ipython",
    "version": 3
   },
   "file_extension": ".py",
   "mimetype": "text/x-python",
   "name": "python",
   "nbconvert_exporter": "python",
   "pygments_lexer": "ipython3",
   "version": "3.7.6"
  }
 },
 "nbformat": 4,
 "nbformat_minor": 4
}
